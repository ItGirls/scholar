{
 "cells": [
  {
   "cell_type": "markdown",
   "metadata": {},
   "source": [
    "# Introduction"
   ]
  },
  {
   "cell_type": "markdown",
   "metadata": {},
   "source": [
    "Scholar is a framework for document modeling, much like LDA, but with the ability to flexibly incorporate metadata, with some similarity to the structural topic model. It can scale to large numbers of covariates, runs in python, and offers GPU support for fast exploration of a corpus of documents."
   ]
  },
  {
   "cell_type": "markdown",
   "metadata": {},
   "source": [
    "In this tutorial, we'll use a toy corpus of political press releases in order to demonstrate the functionality and interface of Scholar."
   ]
  },
  {
   "cell_type": "markdown",
   "metadata": {},
   "source": [
    "# Setup"
   ]
  },
  {
   "cell_type": "markdown",
   "metadata": {},
   "source": [
    "### Code\n",
    "\n",
    "If you're looking at this tutorial, you have presumably already downloaded/cloned the Scholar repo. If not, you can clone it using: \n",
    "\n",
    "`git clone git@github.com:dallascard/scholar.git`\n",
    "\n",
    "(if you don't have git set up, you can just download the repo from https://github.com/dallascard/scholar)\n",
    "\n",
    "Scholar has not yet been packaged us as a full python packge. As such, we will just run commands from the scholar directory, so switch into it:\n",
    "\n",
    "`cd /path/to/scholar`\n",
    "\n",
    "(the directory that contains this notebook)"
   ]
  },
  {
   "cell_type": "markdown",
   "metadata": {},
   "source": [
    "### Environment\n",
    "\n",
    "Create new python environment for running scholar. We recommend using Anaconda, but it is also possible to do this using virtualenv and pip. Assuming you are using conda, run the following three commands, one at a time, and follow the prompts:\n",
    "\n",
    "`conda create -n scholar python=3`\n",
    "\n",
    "`source activate scholar`\n",
    "\n",
    "`conda install ipython notebook numpy scipy pandas matplotlib gensim pytorch torchvision -c pytorch`\n",
    "\n",
    "You should also now quit this notebook and reload it from with the scholar environment (i.e. after running `source activate scholar` in the shell)."
   ]
  },
  {
   "cell_type": "markdown",
   "metadata": {},
   "source": [
    "### Data\n",
    "\n",
    "For this tutorial, we'll be using a subset of the Congressional press release corpus created by Justin Grimmer.\n",
    "\n",
    "A compressed file with press releases from six senators can be found in this repo. To expand it, run\n",
    "\n",
    "`tar -xzf tutorial.tar.gz`\n",
    "\n",
    "which will create a  directory called  `tutorial/CongressPressExpand/`\n",
    "\n",
    "For those who are interested, the full dataset (Press.tar; 282Mb) can be downloaded from https://dataverse.harvard.edu/dataset.xhtml?persistentId=hdl:1902.1/14596"
   ]
  },
  {
   "cell_type": "markdown",
   "metadata": {},
   "source": [
    "# Data Import\n",
    "\n",
    "To use scholar, it is necessary to get the data into the proper format. To do this, the easiest thing to do is to write a script to convert the documents into a single file, where each line corresponds to one document, represented as a JSON object. Each JSON object should have at least one field called \"text\", but it can also contain other metadata fields.\n",
    "\n",
    "We have included a script to convert a subset of the Senatorial press releases into this format, which can be used as a starting point for your own project.\n",
    "\n",
    "If running this from the command line, it would be run as\n",
    "\n",
    "`python import_congress_press.py tutorial/CongressPressExpand tutorial/congress/`\n",
    "\n",
    "Since we are running this in a notebook, we will run it by importing the package, and calling the `main()` function with the corresponding arguments in a list."
   ]
  },
  {
   "cell_type": "code",
   "execution_count": 2,
   "metadata": {},
   "outputs": [
    {
     "name": "stdout",
     "output_type": "stream",
     "text": [
      "python import_congress_press tutorial/CongressPressExpand tutorial/congress\n",
      "274 files from Sanders\n",
      "709 files from Obama\n",
      "358 files from Klobuchar\n",
      "293 files from McCain\n",
      "614 files from Graham\n",
      "235 files from Coburn\n",
      "Saving files to tutorial/congress\n",
      "Done!\n"
     ]
    }
   ],
   "source": [
    "import import_congress_press\n",
    "script = 'import_congress_press'\n",
    "args = 'tutorial/CongressPressExpand tutorial/congress'\n",
    "print(\"python\", script, args)\n",
    "import_congress_press.main(args.split())"
   ]
  },
  {
   "cell_type": "markdown",
   "metadata": {},
   "source": [
    "This creates two files in the output directory (`/tutorial/congress/`):\n",
    "- `train.jsonlist` contains one press release per line, in JSON format, including fields for the text of the press release, as well as senator name, party, date, year, and month\n",
    "- `train.score.csv` contains DW-nominate scores for 6 senators from the 110th congress, with one score for each document in `train.jsonlist` (in the same order)."
   ]
  },
  {
   "cell_type": "markdown",
   "metadata": {},
   "source": [
    "To inspect a document, we can use the `json` library to load it"
   ]
  },
  {
   "cell_type": "code",
   "execution_count": 3,
   "metadata": {},
   "outputs": [
    {
     "name": "stdout",
     "output_type": "stream",
     "text": [
      "id : 10Apr2007Sanders238.txt\n",
      "text : SEIZE THE OPPORTUNITY FOR MAJOR BREAKTHROUGHS IN HEALTH CARE   The Senate this week is considering a bill, cosponsored by Sen. Bernie Sanders, that would expand and encourage federal funding of human embryonic stem cell research. President Bush in 2001 cut off federal funding for research involving new embryonic stem cells, which has dramatically stalled this critical area of medical research.      \"My hope is that, as a result of increased pressure from scientists, physicians and the American people, the president will change his position or, if he does not, that the Congress will have enough votes to override his veto and establish unrestricted federal funding for stem cell research,\" Sanders said. \"The potential is now available for major breakthroughs in Parkinson's disease, Alzheimer's, diabetes, spinal cord injury, stroke, heart disease and many other illnesses. We must seize the opportunity.\"     View a copy of the Bill - S. 5 at http://sanders.senate.gov/files/S_5.pdf    Read a summary of the bill - S. 5 at http://www.sanders.senate.gov/news/record.cfm?id=272151    Read a Congressional Research Service background report on stem cell research at http://sanders.senate.gov/files/Stem%20Cells.pdf.    \n",
      "senator : Sanders\n",
      "date : 10Apr2007\n",
      "year : 2007\n",
      "month : Apr\n",
      "party : D\n",
      "score : -0.717\n"
     ]
    }
   ],
   "source": [
    "import os\n",
    "import json\n",
    "with open(os.path.join('tutorial', 'congress', 'train.jsonlist')) as f:\n",
    "    lines = f.readlines()\n",
    "first_doc = json.loads(lines[0])\n",
    "for key, value in first_doc.items():\n",
    "    print(key, ':', value)"
   ]
  },
  {
   "cell_type": "markdown",
   "metadata": {},
   "source": [
    "If we had documents that we wanted to use as a test set, we could create a `test.jsonlist` object in the same manner."
   ]
  },
  {
   "cell_type": "markdown",
   "metadata": {},
   "source": [
    "# Preprocessing"
   ]
  },
  {
   "cell_type": "markdown",
   "metadata": {},
   "source": [
    "The next step is to use a preprocessing script we have provided to convert the documents from JSON format into a numerical representation. It works by creating a vocabulary, filtering out numbers, punctuation, and some other tokens, and saving the document-term count matrix. \n",
    "\n",
    "The preprocessing script can also simultaneously pull out various metadata attributes (like author or year) from the JSON objects, and convert them into one-hot representations, which will be saved as .csv files.\n",
    "\n",
    "For other types of metadata, such as continously-valued data, you will need to create the corresponding .csv files manually, as we did above for `train.score.csv`. All that matters is that the order of the rows is the same as the the order of documents in `train.jsonlist`. Also, scholar will expect the file name to be `train.field_name.csv` (or \"test\" rather than \"train\" for test data)."
   ]
  },
  {
   "cell_type": "markdown",
   "metadata": {},
   "source": [
    "To see the full set of options for any command, try running it with the `-h` option. Again, in the shell, this would be run as:\n",
    "\n",
    "`python preprocess_data.py -h`"
   ]
  },
  {
   "cell_type": "code",
   "execution_count": 4,
   "metadata": {},
   "outputs": [
    {
     "name": "stdout",
     "output_type": "stream",
     "text": [
      "python preprocess_data.py -h\n",
      "Usage: ipykernel_launcher.py train.jsonlist output_dir\n",
      "\n",
      "Options:\n",
      "  -h, --help            show this help message and exit\n",
      "  --label=LABEL         field(s) to use as label (comma-separated):\n",
      "                        default=none\n",
      "  --test=TEST           Test data (test.jsonlist): default=none\n",
      "  --train-prefix=TRAIN_PREFIX\n",
      "                        Output prefix for training data: default=train\n",
      "  --test-prefix=TEST_PREFIX\n",
      "                        Output prefix for test data: default=test\n",
      "  --stopwords=STOPWORDS\n",
      "                        List of stopwords to exclude [None|mallet|snowball]:\n",
      "                        default=snowball\n",
      "  --min-doc-count=MIN_DOC_COUNT\n",
      "                        Exclude words that occur in less than this number of\n",
      "                        documents\n",
      "  --max-doc-freq=MAX_DOC_FREQ\n",
      "                        Exclude words that occur in more than this proportion\n",
      "                        of documents\n",
      "  --keep-num            Keep tokens made of only numbers: default=False\n",
      "  --keep-alphanum       Keep tokens made of a mixture of letters and numbers:\n",
      "                        default=False\n",
      "  --strip-html          Strip HTML tags: default=False\n",
      "  --no-lower            Do not lowercase text: default=False\n",
      "  --min-length=MIN_LENGTH\n",
      "                        Minimum token length: default=3\n",
      "  --vocab-size=VOCAB_SIZE\n",
      "                        Size of the vocabulary (by most common, following\n",
      "                        above exclusions): default=none\n",
      "  --seed=SEED           Random integer seed (only relevant for choosing test\n",
      "                        set): default=42\n"
     ]
    },
    {
     "ename": "SystemExit",
     "evalue": "0",
     "output_type": "error",
     "traceback": [
      "An exception has occurred, use %tb to see the full traceback.\n",
      "\u001b[0;31mSystemExit\u001b[0m\u001b[0;31m:\u001b[0m 0\n"
     ]
    },
    {
     "name": "stderr",
     "output_type": "stream",
     "text": [
      "/Users/dcard/anaconda/envs/pytorch4/lib/python3.6/site-packages/IPython/core/interactiveshell.py:2969: UserWarning: To exit: use 'exit', 'quit', or Ctrl-D.\n",
      "  warn(\"To exit: use 'exit', 'quit', or Ctrl-D.\", stacklevel=1)\n"
     ]
    }
   ],
   "source": [
    "import preprocess_data\n",
    "args = '-h'\n",
    "print(\"python preprocess_data.py -h\")\n",
    "preprocess_data.main([args])"
   ]
  },
  {
   "cell_type": "markdown",
   "metadata": {},
   "source": [
    "Here, we'll tell it to only use words that occur in at least 90 documents, which will give us a vocabulary of about 1000 words (excluding stopwords). This will help the model run faster, but using a larger vocabulary (2000 or 5000 words, might lead to much richer topics). Alternatively, we could set the vocabulary size directly, using `--vocab-size`\n",
    "\n",
    "We'll also tell it to create the label matrices for the various metadata attributes, which we provide in a comma-separated list (without spaces). As a reminder, it will assume that each of these metadata names will be a field in each JSON document object."
   ]
  },
  {
   "cell_type": "code",
   "execution_count": 5,
   "metadata": {},
   "outputs": [
    {
     "name": "stdout",
     "output_type": "stream",
     "text": [
      "python preprocess_data.py tutorial/congress/train.jsonlist tutorial/congress --min-doc-count 90 --label senator,party,year,month,date\n",
      "Using snowball stopwords\n",
      "Reading data files\n",
      "Found 2483 training documents\n",
      "Found label senator with 6 classes\n",
      "Found label party with 2 classes\n",
      "Found label year with 4 classes\n",
      "Found label month with 12 classes\n",
      "Found label date with 918 classes\n",
      "Parsing 2483 documents\n",
      "Size of full vocabulary=22131\n",
      "Selecting the vocabulary\n",
      "Vocab size after filtering = 1021\n",
      "Final vocab size = 1021\n",
      "Most common words remaining: senator washington today said senate contact press also current date\n",
      "Converting to count representations\n",
      "Size of train document-term matrix: (2483, 1021)\n",
      "0 words missing from training data\n",
      "Done!\n"
     ]
    }
   ],
   "source": [
    "script = 'preprocess_data.py'\n",
    "args = 'tutorial/congress/train.jsonlist tutorial/congress --min-doc-count 90 --label senator,party,year,month,date'\n",
    "print(\"python\", script, args)\n",
    "preprocess_data.main(args.split())"
   ]
  },
  {
   "cell_type": "markdown",
   "metadata": {},
   "source": [
    "This preprocessing script creates several files, some uesd by Scholar, and some designed for other software, like Mallet. The files of interest are:\n",
    "- `train.npz`, which contains a (D x V) sparse matrix of document word counts,\n",
    "- `train.vocab.json`, which contains the vocabualry as a JSON object, and;\n",
    "- files like `train.year.csv`, which contain the year corresponding to each document, in a matrix of size (D x C), where C is the number of distinct covariate values (e.g. years)"
   ]
  },
  {
   "cell_type": "markdown",
   "metadata": {},
   "source": [
    "Let's look at a couple of files:"
   ]
  },
  {
   "cell_type": "code",
   "execution_count": 6,
   "metadata": {},
   "outputs": [
    {
     "name": "stdout",
     "output_type": "stream",
     "text": [
      "First few words in the vocbulary:\n",
      "['ability', 'able', 'abuse', 'access', 'according', 'accountability', '...']\n"
     ]
    }
   ],
   "source": [
    "# load the vocabualry\n",
    "with open(os.path.join('tutorial', 'congress', 'train.vocab.json')) as f:\n",
    "    vocab = json.load(f)\n",
    "print(\"First few words in the vocbulary:\")\n",
    "print(vocab[:6] + ['...'])"
   ]
  },
  {
   "cell_type": "code",
   "execution_count": 7,
   "metadata": {},
   "outputs": [
    {
     "name": "stdout",
     "output_type": "stream",
     "text": [
      "Start of a covariate file (train.year.csv):\n",
      "                         2005  2006  2007  2008\n",
      "10Apr2007Sanders238.txt     0     0     1     0\n",
      "10Apr2008Sanders2.txt       0     0     0     1\n",
      "10Apr2008Sanders3.txt       0     0     0     1\n",
      "10Dec2007Sanders61.txt      0     0     1     0\n",
      "10May2007Sanders212.txt     0     0     1     0\n"
     ]
    }
   ],
   "source": [
    "# load a covariate file\n",
    "import pandas as pd\n",
    "print(\"Start of a covariate file (train.year.csv):\")\n",
    "df = pd.read_csv(os.path.join('tutorial', 'congress', 'train.year.csv'), header=0, index_col=0)\n",
    "print(df.head())"
   ]
  },
  {
   "cell_type": "markdown",
   "metadata": {},
   "source": [
    "Note that if we had a test corpus, we could simultaneously process it by adding the `--test` option to our call to `preprocess_data` (with the path to `test.jsonlist`)."
   ]
  },
  {
   "cell_type": "markdown",
   "metadata": {},
   "source": [
    "# Running Scholar"
   ]
  },
  {
   "cell_type": "markdown",
   "metadata": {},
   "source": [
    "We are now ready to run Scholar!\n",
    "\n",
    "To start off, let's just run a basic topic model, without any metadata. We just need to specify the input directory,  and it will look for the `train.npz` file, as well as `train.vocab.json`. \n",
    "\n",
    "Here, we'll also tell it to use 10 topics (`-k`), tell it only to run for 50 epochs (`--epochs 50`), and to use a random 1/10th of the data as a dev/validation set to monitor the fit (`--dev-folds 10`). "
   ]
  },
  {
   "cell_type": "code",
   "execution_count": 22,
   "metadata": {},
   "outputs": [
    {
     "name": "stdout",
     "output_type": "stream",
     "text": [
      "python run_scholar.py tutorial/congress/ -k 10 --epochs 50 --dev-folds 10 --seed 99\n",
      "Loading data\n",
      "Loaded 2483 documents with 1021 features\n",
      "Found 2483 non-empty documents\n",
      "Computing background frequencies\n",
      "Min/max word counts in training data: 88 5075\n",
      "Network architecture:\n",
      "embedding_dim: 300\n",
      "n_topics: 10\n",
      "vocab_size: 1021\n",
      "label_type: None\n",
      "n_labels: 0\n",
      "n_prior_covars: 0\n",
      "n_topic_covars: 0\n",
      "l1_beta_reg: 0.0\n",
      "l1_beta_c_reg: 0.0\n",
      "l1_beta_ci_reg: 0.0\n",
      "l2_prior_reg: 0.0\n",
      "classifier_layers: 1\n",
      "use_interactions: False\n",
      "Optimizing full model\n",
      "Epoch: 10 cost= 1123.892300668\n",
      "Epoch: 10; Dev perplexity = inf\n",
      "Epoch: 20 cost= 1109.053324245\n",
      "Epoch: 20; Dev perplexity = 78207346.2447\n",
      "Epoch: 30 cost= 1124.218160130\n",
      "Epoch: 30; Dev perplexity = 1221.7934\n",
      "Epoch: 40 cost= 1108.377098408\n",
      "Epoch: 40; Dev perplexity = 784.0064\n",
      "Background frequencies of top words:\n",
      "senator obama bill said senate today washington graham press president\n",
      "[0.01296816 0.01271263 0.00941629 0.00862415 0.00805176 0.00681244\n",
      " 0.00638571 0.00630138 0.00597941 0.00590275]\n",
      "Topics:\n",
      "0: energy fuel renewable oil fuels bill obama klobuchar  / bishop browse hickman supreme press kevin releases judge ; sparsity=0.0000\n",
      "1: today statement washington congress time senator government current  / receive fire grants program carolina grant care south ; sparsity=0.0000\n",
      "2: iraq president war political time people american iraqi  / energy communities programs announced community receive grants development ; sparsity=0.0000\n",
      "3: bill congress year senate million president earmarks billion  / contact date hickman carolina kevin announces relases south ; sparsity=0.0000\n",
      "4: record browse lindsey wes press bishop date hickman  / legislation make act many american need one also ; sparsity=0.0000\n",
      "5: washington statement barack obama release following released coburn  / support national graham funding carolina south program system ; sparsity=0.0000\n",
      "6: klobuchar said children minnesota also lead legislation care  / contact date bishop wes carolina hickman security kevin ; sparsity=0.0010\n",
      "7: care health veterans year million sanders percent college  / hickman relases wes releases lindsey carolina south browse ; sparsity=0.0000\n",
      "8: obama barack durbin senator alerts federal newsletters office  / carolina research billion browse projects bishop south million ; sparsity=0.0000\n",
      "9: press south graham grants carolina awarded fire releases  / government act years legislation last make american country ; sparsity=0.0000\n",
      "sparsity in topics = 0.0001\n",
      "Dev perplexity = 724.3032\n",
      "Saving document representations\n"
     ]
    }
   ],
   "source": [
    "import run_scholar\n",
    "script = 'run_scholar.py'\n",
    "args = 'tutorial/congress/ -k 10 --epochs 50 --dev-folds 10 --seed 99'\n",
    "print(\"python\", script, args)\n",
    "run_scholar.main(args.split())"
   ]
  },
  {
   "cell_type": "markdown",
   "metadata": {},
   "source": [
    "To display this a bit more cleanly, let's load the output and look at it.\n",
    "\n",
    "By default, the output of the model is saved to a directory called `output`, but that can be changed using the `-o` option (remember to use `-h` to see all options).\n",
    "\n",
    "First, let's inspect the background frequencies of the most common words (the log-frequencies are computed and saved)"
   ]
  },
  {
   "cell_type": "code",
   "execution_count": 23,
   "metadata": {},
   "outputs": [
    {
     "name": "stdout",
     "output_type": "stream",
     "text": [
      "senator 0.012968165\n",
      "obama 0.012712633\n",
      "bill 0.009416293\n",
      "said 0.008624149\n",
      "senate 0.008051763\n",
      "today 0.006812439\n",
      "washington 0.0063857054\n",
      "graham 0.00630138\n",
      "press 0.0059794127\n",
      "president 0.005902752\n",
      "legislation 0.00572388\n",
      "barack 0.005562898\n",
      "health 0.0055398997\n",
      "million 0.00542491\n",
      "federal 0.005355918\n"
     ]
    }
   ],
   "source": [
    "import json\n",
    "import numpy as np\n",
    "\n",
    "# load the background log-frequencies\n",
    "bg = np.load('output/bg.npz')['bg']\n",
    "\n",
    "# load the vocabualry\n",
    "with open('output/vocab.json') as f:\n",
    "    vocab = json.load(f)\n",
    "\n",
    "# sort terms by log-frequency\n",
    "order = np.argsort(bg)\n",
    "\n",
    "# print the most common words \n",
    "for i in range(1, 16):\n",
    "    index = order[-i]\n",
    "    print(vocab[index], np.exp(bg[index]))"
   ]
  },
  {
   "cell_type": "markdown",
   "metadata": {},
   "source": [
    "This seems like about what we would expect for the most common words, including common words, like \"said\", corpus-specific words, like \"senator\", and the names of some of the Senators we have included.\n",
    "\n",
    "Typically in topic models, we might need to remove stopwords to get good topics, but in Scholar the background term means that we don't particularly need to worry about it. (Note that the prepocessing script removed some very common words like \"the\", but they could equally have been left in).\n",
    "\n",
    "Now let's look at the topics:"
   ]
  },
  {
   "cell_type": "code",
   "execution_count": 24,
   "metadata": {},
   "outputs": [
    {
     "name": "stdout",
     "output_type": "stream",
     "text": [
      "0: energy fuel renewable oil fuels bill obama klobuchar ; sparsity=0.0000\n",
      "1: today statement washington congress time senator government current ; sparsity=0.0000\n",
      "2: iraq president war political time people american iraqi ; sparsity=0.0000\n",
      "3: bill congress year senate million president earmarks billion ; sparsity=0.0000\n",
      "4: record browse lindsey wes press bishop date hickman ; sparsity=0.0000\n",
      "5: washington statement barack obama release following released coburn ; sparsity=0.0000\n",
      "6: klobuchar said children minnesota also lead legislation care ; sparsity=0.0010\n",
      "7: care health veterans year million sanders percent college ; sparsity=0.0000\n",
      "8: obama barack durbin senator alerts federal newsletters office ; sparsity=0.0000\n",
      "9: press south graham grants carolina awarded fire releases ; sparsity=0.0000\n"
     ]
    }
   ],
   "source": [
    "from run_scholar import print_top_words\n",
    "\n",
    "# load the stored (K x V) topic matrix (stored in a compressed numpy format)\n",
    "beta = np.load(os.path.join('output', 'beta.npz'))['beta']\n",
    "print_top_words(beta, vocab, n_pos=8, n_neg=0);"
   ]
  },
  {
   "cell_type": "markdown",
   "metadata": {},
   "source": [
    "There is some order here, such as topic 0 being about energy, but overall these topics are not great.\n",
    "\n",
    "One problem is that we are still seeing names like \"Obama\" and \"Barack\" appearing in the topics, which is not quite what we want. To deal with this, let's add topic covariates, to introduce explicit term for each Senator, to collect the words that are more or less common overall for each one.\n",
    "\n",
    "We'll also let the model run for more epochs, to help it converge."
   ]
  },
  {
   "cell_type": "markdown",
   "metadata": {},
   "source": [
    "## Adding covariates"
   ]
  },
  {
   "cell_type": "markdown",
   "metadata": {},
   "source": [
    "Here we introduce the `--topic-covars` option, which introduces topic-like deviations for observed one-hot covariates. Thus, in addition to the 10 topics, we will here get 6 more vectors of word weights, one for each Senator.\n",
    "\n",
    "When we add the option `--topic-covars senator`, it will look for a file called `train.senator.csv`, with one row for each document, in the same order as `train.jsonlist`. (As a reminder, this file was created by `preprocess_data.py`)."
   ]
  },
  {
   "cell_type": "code",
   "execution_count": 27,
   "metadata": {},
   "outputs": [
    {
     "name": "stdout",
     "output_type": "stream",
     "text": [
      "python run_scholar.py tutorial/congress/ -k 10 --epochs 150 --dev-folds 10 --seed 99 --topic-covars senator\n",
      "Loading data\n",
      "Loaded 2483 documents with 1021 features\n",
      "Found 2483 non-empty documents\n",
      "Loading covariates from tutorial/congress/train.senator.csv\n",
      "Computing background frequencies\n",
      "Min/max word counts in training data: 88 5075\n",
      "Network architecture:\n",
      "embedding_dim: 300\n",
      "n_topics: 10\n",
      "vocab_size: 1021\n",
      "label_type: None\n",
      "n_labels: 0\n",
      "n_prior_covars: 0\n",
      "n_topic_covars: 6\n",
      "l1_beta_reg: 0.0\n",
      "l1_beta_c_reg: 0.0\n",
      "l1_beta_ci_reg: 0.0\n",
      "l2_prior_reg: 0.0\n",
      "classifier_layers: 1\n",
      "use_interactions: False\n",
      "Optimizing full model\n",
      "Epoch: 10 cost= 1149.467740667\n",
      "Epoch: 10; Dev perplexity = 878.8163\n",
      "Epoch: 20 cost= 1107.047984829\n",
      "Epoch: 20; Dev perplexity = 827.7426\n",
      "Epoch: 30 cost= 1102.188625122\n",
      "Epoch: 30; Dev perplexity = 741.1453\n",
      "Epoch: 40 cost= 1066.253058585\n",
      "Epoch: 40; Dev perplexity = 672.0257\n",
      "Epoch: 50 cost= 1087.087200259\n",
      "Epoch: 50; Dev perplexity = 628.2367\n",
      "Epoch: 60 cost= 1070.249596922\n",
      "Epoch: 60; Dev perplexity = 606.9425\n",
      "Epoch: 70 cost= 1049.033093890\n",
      "Epoch: 70; Dev perplexity = 586.5134\n",
      "Epoch: 80 cost= 1067.080487757\n",
      "Epoch: 80; Dev perplexity = 558.6682\n",
      "Epoch: 90 cost= 1047.719491707\n",
      "Epoch: 90; Dev perplexity = 539.2626\n",
      "Epoch: 100 cost= 1064.388435927\n",
      "Epoch: 100; Dev perplexity = 523.4846\n",
      "Epoch: 110 cost= 1070.233266263\n",
      "Epoch: 110; Dev perplexity = 512.4081\n",
      "Epoch: 120 cost= 1086.223909178\n",
      "Epoch: 120; Dev perplexity = 496.3190\n",
      "Epoch: 130 cost= 1109.989546193\n",
      "Epoch: 130; Dev perplexity = 478.7304\n",
      "Epoch: 140 cost= 1088.349188820\n",
      "Epoch: 140; Dev perplexity = 465.5977\n",
      "Background frequencies of top words:\n",
      "senator obama bill said senate today washington graham press president\n",
      "[0.01296816 0.01271263 0.00941629 0.00862415 0.00805176 0.00681244\n",
      " 0.00638571 0.00630138 0.00597941 0.00590275]\n",
      "Topics:\n",
      "0: fuels energy fuel renewable gas oil reduce climate  / emergency afghanistan demint military department county appropriations personnel ; sparsity=0.0000\n",
      "1: troops war iraq terror iraqi political mission course  / million demint announced district programs grant communities awarded ; sparsity=0.0000\n",
      "2: river projects infrastructure project natural water land communities  / american statement brave age instead people pay right ; sparsity=0.0000\n",
      "3: care members armed military benefits soldiers veterans men  / change natural wes hickman interest energy farm people ; sparsity=0.0000\n",
      "4: statement following tommy passing court nomination judge released  / provide percent increase providing cost programs million total ; sparsity=0.0000\n",
      "5: workers legal don immigration laws country just people  / programs awarded demint wes grant million billion hickman ; sparsity=0.0000\n",
      "6: spending fiscal billion budget priorities income bills debt  / dear communications honorable text climate apply please releases ; sparsity=0.0000\n",
      "7: newsletters alerts petitions ortiz opinion initiated primary polls  / percent billion million average pay credit bill reduce ; sparsity=0.0000\n",
      "8: consumer lead transparency commission products children accountability commerce  / throughout world hickman rural community wes east brave ; sparsity=0.0000\n",
      "9: awarded announces departments grants grant education receive announce  / time last states now bush president instead like ; sparsity=0.0000\n",
      "sparsity in topics = 0.0000\n",
      "Covariate deviations:\n",
      "Coburn: citizen tom room coburn per added earmarks dollars  / releases wes klobuchar date kevin obama south announces ; sparsity=0.0000\n",
      "Graham: wes hickman bishop releases browse press demint graham  / barack bernie monday initiated wednesday thursday immediate minnesota ; sparsity=0.0000\n",
      "Klobuchar: minnesota klobuchar cities serves secured commerce amy consumer  / browse wes vermont press hickman obama vietor kevin ; sparsity=0.0000\n",
      "McCain: john browse mccain freedom greater releases current rather  / hickman amy bishop obama klobuchar vermont bernie tommy ; sparsity=0.0000\n",
      "Obama: gibbs vietor obama ortiz polls barack chicago initiated  / browse releases wes press hickman lindsey klobuchar vermont ; sparsity=0.0000\n",
      "Sanders: vermont bernie sanders warming paying sen bush middle  / hickman wes demint browse graham lindsey obama washington ; sparsity=0.0000\n",
      "sparsity in covariates = 0.0000\n",
      "Dev perplexity = 456.6098\n",
      "Saving document representations\n"
     ]
    }
   ],
   "source": [
    "script = 'run_scholar.py'\n",
    "args = 'tutorial/congress/ -k 10 --epochs 150 --dev-folds 10 --seed 99 --topic-covars senator'\n",
    "print(\"python\", script, args)\n",
    "run_scholar.main(args.split())"
   ]
  },
  {
   "cell_type": "markdown",
   "metadata": {},
   "source": [
    "Again, let's load the topics and have a look:"
   ]
  },
  {
   "cell_type": "code",
   "execution_count": 33,
   "metadata": {},
   "outputs": [
    {
     "name": "stdout",
     "output_type": "stream",
     "text": [
      "0: fuels energy fuel renewable gas oil reduce climate ; sparsity=0.0000\n",
      "1: troops war iraq terror iraqi political mission course ; sparsity=0.0000\n",
      "2: river projects infrastructure project natural water land communities ; sparsity=0.0000\n",
      "3: care members armed military benefits soldiers veterans men ; sparsity=0.0000\n",
      "4: statement following tommy passing court nomination judge released ; sparsity=0.0000\n",
      "5: workers legal don immigration laws country just people ; sparsity=0.0000\n",
      "6: spending fiscal billion budget priorities income bills debt ; sparsity=0.0000\n",
      "7: newsletters alerts petitions ortiz opinion initiated primary polls ; sparsity=0.0000\n",
      "8: consumer lead transparency commission products children accountability commerce ; sparsity=0.0000\n",
      "9: awarded announces departments grants grant education receive announce ; sparsity=0.0000\n"
     ]
    }
   ],
   "source": [
    "beta = np.load('output/beta.npz')['beta']\n",
    "print_top_words(beta, vocab, n_pos=8, n_neg=0);"
   ]
  },
  {
   "cell_type": "markdown",
   "metadata": {},
   "source": [
    "These look much better! There are fairly clear topics for the energy, military, spending, etc.\n",
    "\n",
    "In addition, we can load the vectors that have been learned for each Senator, which will be saved in a file called `beta_c.npz`."
   ]
  },
  {
   "cell_type": "code",
   "execution_count": 29,
   "metadata": {},
   "outputs": [
    {
     "name": "stdout",
     "output_type": "stream",
     "text": [
      "Coburn: citizen tom room coburn per added earmarks dollars ; sparsity=0.0000\n",
      "Graham: wes hickman bishop releases browse press demint graham ; sparsity=0.0000\n",
      "Klobuchar: minnesota klobuchar cities serves secured commerce amy consumer ; sparsity=0.0000\n",
      "McCain: john browse mccain freedom greater releases current rather ; sparsity=0.0000\n",
      "Obama: gibbs vietor obama ortiz polls barack chicago initiated ; sparsity=0.0000\n",
      "Sanders: vermont bernie sanders warming paying sen bush middle ; sparsity=0.0000\n"
     ]
    }
   ],
   "source": [
    "topic_covars = np.load(os.path.join('output', 'beta_c.npz'))\n",
    "weights = topic_covars['beta']\n",
    "names = topic_covars['names']\n",
    "print_top_words(weights, vocab, topic_names=names, n_pos=8, n_neg=0);"
   ]
  },
  {
   "cell_type": "markdown",
   "metadata": {},
   "source": [
    "These are clearly about right, in that the Senator's names and/or states are appearing in the right vectors. It is hard to make sense of some of these, but they appear to doing the right thing in terms of pulling the Senator-specific terms out of the topics.\n",
    "\n",
    "Note that if we had used the full dataset, we could easily extend the covariates to include a variable for each Senator without difficulty, which would be quite slow to run in the structural topic model."
   ]
  },
  {
   "cell_type": "markdown",
   "metadata": {},
   "source": [
    "## Visualizing results\n",
    "\n",
    "Let's load the resulting document-topic proportions for the training data, and look a random example. \n"
   ]
  },
  {
   "cell_type": "code",
   "execution_count": 30,
   "metadata": {},
   "outputs": [
    {
     "name": "stdout",
     "output_type": "stream",
     "text": [
      "10Apr2008Sanders2.txt\n",
      "SENATE ADOPTS SANDERS VETERANS PROVISION IN HOUSING BILL   The Senate today put finishing touches on housing stimulus legislation, adding a $57 million proposal authored by Senator Bernie Sanders (I-Vt.) that would increase federal grants to help disabled veterans adapt their homes.     \"With so many soldiers coming back from Iraq with disabilities, it is absolutely imperative that we make sure they have as normal a life as possible and that certainly includes adapting their homes to meet their needs,\" Sanders said.    The final bill, which the Senate approved 84 to 12, also included energy tax credits cosponsored by Sanders that would promote renewable energy and energy efficiency. It would extend expiring federal tax benefits for investment in solar, wind and other sustainable energy sources.    Sanders also was the lead cosponsor of a successful amendment by Senator Patrick Leahy (D-Vt.) that would guarantee Vermont a $20 million share of $4 billion in community development block grants to prevent home foreclosures and to refurbish abandoned homes.    Under the veterans amendment, veterans with certain severe service-connected disabilities would be eligible for grants of up to $60,000, a $10,000 boost from the current law, to build wheelchair ramps and to make other changes so they could live at home. Veterans who were blinded or lost arms in war zones or while on active duty may receive up to $12,000, a $2,000 increase, for remodeling their homes.    The amendment also would provide for automatic annual adjustments pegged to a home construction cost index to ensure that the benefits keep pace with rising prices. Wounded veterans returning from Iraq and Afghanistan have found that the program now on the books does not cover all of the costs of adapting their homes.    Sanders' amendment was supported by the American Legion, Veterans of Foreign Wars, Disabled American Veterans, Vietnam Veterans of America, AMVETS, Paralyzed Veterans of America and others.    Before passing the bill, the Senate also added the energy provisions. \"There are huge opportunities that we will lose if we do not extend these sustainable energy tax credits,\" Sanders said. \"Not only will these tax credits enable us to continue our effort to break our dependency on the fossil fuels that cause global warming and pollute our environment, but they will provide a significant number of good-paying green jobs in the areas of wind, solar and geothermal - something that I am working very hard on and believe has tremendous potential for our economy.\"    The Leahy-Sanders Amendment would allot $20 million to help Vermont deal with the foreclosure crisis that is sweeping the country. \"With this funding, it is my hope that Vermont's cities and towns will be able to provide immediate assistance to the struggling middle class trying to hold onto their homes and improve communities hit hard by foreclosures,\" Sanders said. \"Clearly, we must do everything we can to prevent the American dream of homeownership from turning into the American nightmare of foreclosure that too many American families are experiencing.\"    \n"
     ]
    },
    {
     "data": {
      "image/png": "[encoded data removed]",
      "text/plain": [
       "<Figure size 432x288 with 1 Axes>"
      ]
     },
     "metadata": {},
     "output_type": "display_data"
    }
   ],
   "source": [
    "%matplotlib inline\n",
    "import numpy as np\n",
    "import pandas as pd\n",
    "import matplotlib.pyplot as plt\n",
    "\n",
    "# load the matrix with topic proportions for each document (note that this excludes those in the dev set).\n",
    "npz = np.load(os.path.join('output', 'theta.train.npz')) \n",
    "ids = npz['ids']\n",
    "theta = npz['theta']\n",
    "n_docs, n_topics = theta.shape\n",
    "\n",
    "index = 1\n",
    "# plot the proportion of each topic in the first document\n",
    "fig, ax = plt.subplots()\n",
    "ax.bar(range(n_topics), theta[index, :])\n",
    "\n",
    "# find the original line corresponding to this document, and display the text\n",
    "print(ids[index])\n",
    "for line in lines:\n",
    "    doc = json.loads(line)\n",
    "    if doc['id'] == ids[index]:\n",
    "        print(doc['text'])\n",
    "        break\n"
   ]
  },
  {
   "cell_type": "markdown",
   "metadata": {},
   "source": [
    "This seems about right! The press release is mostly about veterans (topic 3), but also about spending (topic 6), with some amount of energy (topic 0) and infrastructure (topic 2)."
   ]
  },
  {
   "cell_type": "markdown",
   "metadata": {},
   "source": [
    "Now, let's plot the relative prevalance of each topics for each Senator.\n",
    "\n",
    "Because scholar split the training data into a training set and a dev set, we need to match up the output to the original senator variables."
   ]
  },
  {
   "cell_type": "code",
   "execution_count": 31,
   "metadata": {},
   "outputs": [
    {
     "data": {
      "image/png": "[encoded data removed]",
      "text/plain": [
       "<Figure size 432x288 with 1 Axes>"
      ]
     },
     "metadata": {},
     "output_type": "display_data"
    }
   ],
   "source": [
    "\n",
    "# load the senator variable for all the documents\n",
    "senators_df = pd.read_csv(os.path.join('tutorial', 'congress', 'train.senator.csv'), header=0, index_col=0)\n",
    "senators = senators_df.columns\n",
    "\n",
    "# pull out a subset corresponding to the ids from above\n",
    "train_subset = senators_df.loc[ids]\n",
    "n_docs, n_senators = train_subset.shape\n",
    "\n",
    "# plot the average senator-topic proportions\n",
    "fig, ax = plt.subplots()\n",
    "lefts = np.zeros(n_senators)\n",
    "for k in range(n_topics):\n",
    "    vals = []\n",
    "    for senator in senators:\n",
    "        vals.append(np.mean(theta[train_subset[senator] == 1, k]))\n",
    "\n",
    "    ax.barh(range(n_senators), vals, left=lefts)\n",
    "    lefts += np.array(vals)\n",
    "    \n",
    "ax.set_yticks(range(n_senators))\n",
    "ax.set_yticklabels(senators)\n",
    "plt.show();"
   ]
  },
  {
   "cell_type": "markdown",
   "metadata": {},
   "source": [
    "This seems to have at least some face validity, with, for example, Amy Klobuchar writing more about energy/environment/infrastructure issues (topics 0 and 2), but more expertise would be useful in exploring this further. "
   ]
  },
  {
   "cell_type": "markdown",
   "metadata": {},
   "source": [
    "## Initializing with pretrained word vectors"
   ]
  },
  {
   "cell_type": "markdown",
   "metadata": {},
   "source": [
    "Emperically, we found that initializing the model with pretrained word vectors led to greater coherence in the topics. If you are interested in trying this, it is necessary to download the pretrained word2vec vectors from https://drive.google.com/file/d/0B7XkCwpI5KDYNlNUTTlSS21pQmM/edit?usp=sharing\n",
    "\n",
    "Once this is done, and these have been saved somewhere, we can add the `--w2v` option to the model, with a path to the vector file. Here, we'll assume it's in the local directory.\n",
    "\n",
    "Note that it takes some time to load the word vectors, so we'll just try this once for illustration purposes."
   ]
  },
  {
   "cell_type": "code",
   "execution_count": 37,
   "metadata": {},
   "outputs": [
    {
     "name": "stdout",
     "output_type": "stream",
     "text": [
      "python run_scholar.py tutorial/congress/ -k 10 --epochs 150 --dev-folds 10 --seed 99 --topic-covars senator --w2v ./vectors/GoogleNews-vectors-negative300.bin\n",
      "Loading data\n",
      "Loaded 2483 documents with 1021 features\n",
      "Found 2483 non-empty documents\n",
      "Loading covariates from tutorial/congress/train.senator.csv\n",
      "Computing background frequencies\n",
      "Min/max word counts in training data: 88 5075\n",
      "Network architecture:\n",
      "embedding_dim: 300\n",
      "n_topics: 10\n",
      "vocab_size: 1021\n",
      "label_type: None\n",
      "n_labels: 0\n",
      "n_prior_covars: 0\n",
      "n_topic_covars: 6\n",
      "l1_beta_reg: 0.0\n",
      "l1_beta_c_reg: 0.0\n",
      "l1_beta_ci_reg: 0.0\n",
      "l2_prior_reg: 0.0\n",
      "classifier_layers: 1\n",
      "use_interactions: False\n",
      "Loading word vectors\n",
      "Found embeddings for 1012 words\n",
      "Optimizing full model\n",
      "Epoch: 10 cost= 1128.703389349\n",
      "Epoch: 10; Dev perplexity = 840.9305\n",
      "Epoch: 20 cost= 1130.367685612\n",
      "Epoch: 20; Dev perplexity = 687.7510\n",
      "Epoch: 30 cost= 1083.127119162\n",
      "Epoch: 30; Dev perplexity = 632.9374\n",
      "Epoch: 40 cost= 1075.399669673\n",
      "Epoch: 40; Dev perplexity = 611.5000\n",
      "Epoch: 50 cost= 1084.831510198\n",
      "Epoch: 50; Dev perplexity = 583.3697\n",
      "Epoch: 60 cost= 1073.562798212\n",
      "Epoch: 60; Dev perplexity = 569.5642\n",
      "Epoch: 70 cost= 1062.651181488\n",
      "Epoch: 70; Dev perplexity = 558.2651\n",
      "Epoch: 80 cost= 1064.949063636\n",
      "Epoch: 80; Dev perplexity = 544.8938\n",
      "Epoch: 90 cost= 1075.420855836\n",
      "Epoch: 90; Dev perplexity = 534.3719\n",
      "Epoch: 100 cost= 1084.411932414\n",
      "Epoch: 100; Dev perplexity = 526.7185\n",
      "Epoch: 110 cost= 1079.140406530\n",
      "Epoch: 110; Dev perplexity = 521.7649\n",
      "Epoch: 120 cost= 1075.098781372\n",
      "Epoch: 120; Dev perplexity = 508.8820\n",
      "Epoch: 130 cost= 1092.186877359\n",
      "Epoch: 130; Dev perplexity = 493.8929\n",
      "Epoch: 140 cost= 1071.401804128\n",
      "Epoch: 140; Dev perplexity = 481.4670\n",
      "Background frequencies of top words:\n",
      "senator obama bill said senate today washington graham press president\n",
      "[0.01296816 0.01271263 0.00941629 0.00862415 0.00805176 0.00681244\n",
      " 0.00638571 0.00630138 0.00597941 0.00590275]\n",
      "Topics:\n",
      "0: veterans members guard service care benefits men soldiers  / energy enforcement public environmental sources contact power trade ; sparsity=0.0000\n",
      "1: court rights democratic supreme judge judiciary freedom united  / health grants billion cost projects energy amount training ; sparsity=0.0000\n",
      "2: lead children tax illegal immigration insurance millions pay  / regional browse facility serve east environment supreme army ; sparsity=0.0000\n",
      "3: departments grants fire share awarded assistance local receive  / reform statement american supreme america change votes simply ; sparsity=0.0000\n",
      "4: projects energy development environment million farmers transportation renewable  / supreme opinion ortiz statement recent initiated polls days ; sparsity=0.0000\n",
      "5: going court right little things always something let  / contact grants browse awarded demint grant announced receive ; sparsity=0.0000\n",
      "6: announced investigation letter record press relases releases statement  / bill tax floor energy billion amendment passed legislation ; sparsity=0.0000\n",
      "7: iraq troops war iraqi political terror win security  / grants grant demint awarded education rural receive energy ; sparsity=0.0000\n",
      "8: statement following released julian tommy barack washington nomination  / problem number levels health total reduce increase amount ; sparsity=0.0000\n",
      "9: energy oil gas renewable reduce prices sources climate  / military men troops provided members funding veterans war ; sparsity=0.0000\n",
      "sparsity in topics = 0.0000\n",
      "Covariate deviations:\n",
      "Coburn: room citizen spending coburn taxpayers released tom per  / browse contact tommy vietor petitions wes ortiz hickman ; sparsity=0.0000\n",
      "Graham: hickman bishop browse demint press grant releases lindsey  / obama tommy thursday durbin vietor pursuant release klobuchar ; sparsity=0.0000\n",
      "Klobuchar: klobuchar minnesota amy farmers prices serves commerce consumer  / obama browse bishop vietor demint polls graham tommy ; sparsity=0.0000\n",
      "McCain: browse john mccain land simply consequences though record  / contact tommy hickman petitions relases klobuchar ortiz durbin ; sparsity=0.0000\n",
      "Obama: vietor initiated pursuant polls obama tommy petitions brundage  / browse hickman press south graham relases bishop wes ; sparsity=0.0000\n",
      "Sanders: sanders bernie http sen told bush visit news  / contact browse petitions graham hickman criminal pursuant washington ; sparsity=0.0000\n",
      "sparsity in covariates = 0.0000\n",
      "Dev perplexity = 473.3764\n",
      "Saving document representations\n"
     ]
    }
   ],
   "source": [
    "script = 'run_scholar.py'\n",
    "args = 'tutorial/congress/ -k 10 --epochs 150 --dev-folds 10 --seed 99 --topic-covars senator --w2v ./vectors/GoogleNews-vectors-negative300.bin'\n",
    "print(\"python\", script, args)\n",
    "run_scholar.main(args.split())"
   ]
  },
  {
   "cell_type": "code",
   "execution_count": 38,
   "metadata": {},
   "outputs": [
    {
     "name": "stdout",
     "output_type": "stream",
     "text": [
      "0: veterans members guard service care benefits men soldiers ; sparsity=0.0000\n",
      "1: court rights democratic supreme judge judiciary freedom united ; sparsity=0.0000\n",
      "2: lead children tax illegal immigration insurance millions pay ; sparsity=0.0000\n",
      "3: departments grants fire share awarded assistance local receive ; sparsity=0.0000\n",
      "4: projects energy development environment million farmers transportation renewable ; sparsity=0.0000\n",
      "5: going court right little things always something let ; sparsity=0.0000\n",
      "6: announced investigation letter record press relases releases statement ; sparsity=0.0000\n",
      "7: iraq troops war iraqi political terror win security ; sparsity=0.0000\n",
      "8: statement following released julian tommy barack washington nomination ; sparsity=0.0000\n",
      "9: energy oil gas renewable reduce prices sources climate ; sparsity=0.0000\n"
     ]
    }
   ],
   "source": [
    "beta = np.load('output/beta.npz')['beta']\n",
    "print_top_words(beta, vocab, n_pos=8, n_neg=0);"
   ]
  },
  {
   "cell_type": "markdown",
   "metadata": {},
   "source": [
    "In this case, the results seem quite similar, but it might be more beneficial when working with a larger vocabualry (and therefore words which occur less frequently)."
   ]
  },
  {
   "cell_type": "markdown",
   "metadata": {},
   "source": [
    "## Adding more covariates\n",
    "\n",
    "Note that we can easily include additional covarites in the same way as we did for senators. Let's try also including covariates for year and month. Just include them in a comma-separated list (again, without spaces)."
   ]
  },
  {
   "cell_type": "code",
   "execution_count": 35,
   "metadata": {},
   "outputs": [
    {
     "name": "stdout",
     "output_type": "stream",
     "text": [
      "python run_scholar.py tutorial/congress/ -k 10 --epochs 150 --dev-folds 10 --seed 99 --topic-covars senator,year,month\n",
      "Loading data\n",
      "Loaded 2483 documents with 1021 features\n",
      "Found 2483 non-empty documents\n",
      "Loading covariates from tutorial/congress/train.senator.csv\n",
      "Loading covariates from tutorial/congress/train.year.csv\n",
      "Loading covariates from tutorial/congress/train.month.csv\n",
      "Computing background frequencies\n",
      "Min/max word counts in training data: 88 5075\n",
      "Network architecture:\n",
      "embedding_dim: 300\n",
      "n_topics: 10\n",
      "vocab_size: 1021\n",
      "label_type: None\n",
      "n_labels: 0\n",
      "n_prior_covars: 0\n",
      "n_topic_covars: 22\n",
      "l1_beta_reg: 0.0\n",
      "l1_beta_c_reg: 0.0\n",
      "l1_beta_ci_reg: 0.0\n",
      "l2_prior_reg: 0.0\n",
      "classifier_layers: 1\n",
      "use_interactions: False\n",
      "Optimizing full model\n",
      "Epoch: 10 cost= 1129.572934144\n",
      "Epoch: 10; Dev perplexity = 860.8310\n",
      "Epoch: 20 cost= 1091.396167593\n",
      "Epoch: 20; Dev perplexity = 766.9607\n",
      "Epoch: 30 cost= 1087.384221634\n",
      "Epoch: 30; Dev perplexity = 714.8554\n",
      "Epoch: 40 cost= 1053.508688566\n",
      "Epoch: 40; Dev perplexity = 659.0192\n",
      "Epoch: 50 cost= 1074.958823799\n",
      "Epoch: 50; Dev perplexity = 625.7563\n",
      "Epoch: 60 cost= 1059.172663678\n",
      "Epoch: 60; Dev perplexity = 611.8233\n",
      "Epoch: 70 cost= 1039.878508634\n",
      "Epoch: 70; Dev perplexity = 579.7950\n",
      "Epoch: 80 cost= 1057.128562159\n",
      "Epoch: 80; Dev perplexity = 558.4165\n",
      "Epoch: 90 cost= 1037.520290434\n",
      "Epoch: 90; Dev perplexity = 531.3960\n",
      "Epoch: 100 cost= 1055.141825495\n",
      "Epoch: 100; Dev perplexity = 515.9899\n",
      "Epoch: 110 cost= 1060.904827758\n",
      "Epoch: 110; Dev perplexity = 499.0301\n",
      "Epoch: 120 cost= 1074.686549654\n",
      "Epoch: 120; Dev perplexity = 476.8179\n",
      "Epoch: 130 cost= 1098.103415129\n",
      "Epoch: 130; Dev perplexity = 459.3844\n",
      "Epoch: 140 cost= 1074.672267154\n",
      "Epoch: 140; Dev perplexity = 446.1821\n",
      "Background frequencies of top words:\n",
      "senator obama bill said senate today washington graham press president\n",
      "[0.01296816 0.01271263 0.00941629 0.00862415 0.00805176 0.00681244\n",
      " 0.00638571 0.00630138 0.00597941 0.00590275]\n",
      "Topics:\n",
      "0: energy fuels gas renewable fuel oil reduce climate  / military afghanistan iraq members war department funding armed ; sparsity=0.0000\n",
      "1: troops iraq terror war political freedom win bring  / department program million receive grants programs funds total ; sparsity=0.0000\n",
      "2: earmarks taxpayer transparency taxpayers spending projects accountability appropriations  / united children lose areas young states grant city ; sparsity=0.0000\n",
      "3: counties residents disaster assistance damage grants departments emergency  / american reform called statement americans debate introduced believe ; sparsity=0.0000\n",
      "4: announces announced awarded grant school carolina south development  / president even back reform amendment people court time ; sparsity=0.0000\n",
      "5: statement nomination released following supreme judge court judiciary  / number increase provide additional increased program funds funding ; sparsity=0.0000\n",
      "6: veterans care returning services medical guard members affairs  / interest people statement political security politics vote stop ; sparsity=0.0000\n",
      "7: letter sincerely hearing dear writing concerns workers investigation  / funding funds million families fiscal billion grants troops ; sparsity=0.0000\n",
      "8: soldiers war iraq say let afghanistan back troops  / energy carolina contact south announced grants development grant ; sparsity=0.0000\n",
      "9: children illegal immigration lead products parents border income  / war iraq military general brave armed afghanistan members ; sparsity=0.0000\n",
      "sparsity in topics = 0.0000\n",
      "Covariate deviations:\n",
      "Coburn: room citizen coburn tom per released spending added  / bishop graham tommy contact obama gibbs hickman relases ; sparsity=0.0000\n",
      "Graham: bishop graham relases kevin lindsey south hickman carolina  / tommy klobuchar barack wednesday gibbs illinois obama tuesday ; sparsity=0.0000\n",
      "Klobuchar: klobuchar minnesota consumer secured guard serves farm transportation  / barack polls bishop graham releases kevin mccain contact ; sparsity=0.0000\n",
      "McCain: mccain john record browse freedom remains air democracy  / obama barack contact gibbs hickman carolina vietor tommy ; sparsity=0.0000\n",
      "Obama: obama julian illinois barack brundage dick alerts gibbs  / bishop klobuchar releases lindsey press mccain minnesota south ; sparsity=0.0000\n",
      "Sanders: sanders http bernie sen vermont read paying told  / barack graham obama klobuchar labolt ben mccain amy ; sparsity=0.0000\n",
      "2005: gibbs julian vietor announces green tommy robert court  / alerts initiated newsletters pursuant ortiz brundage electronic period ; sparsity=0.0000\n",
      "2006: vietor tommy gibbs robert julian alternative green authority  / alerts petitions newsletters ortiz initiated brundage pursuant polls ; sparsity=0.0000\n",
      "2007: labolt ben brundage amy http iraq course visit  / julian gibbs tommy vietor ortiz robert alerts green ; sparsity=0.0000\n",
      "2008: newsletters petitions polls initiated michael alerts ortiz pursuant  / labolt tommy gibbs ben julian vietor graham brundage ; sparsity=0.0000\n",
      "Apr: april location temporary drug prices price calls attention  / june september august july complete quickly terror november ; sparsity=0.0000\n",
      "Aug: august transportation insurance office children area receive letter  / finally union decades head known clinton allowing expected ; sparsity=0.0000\n",
      "Dec: december polls petitions initiated electronic pursuant newsletters alerts  / ben june supporting third august labolt company illinois ; sparsity=0.0000\n",
      "Feb: february cut eliminate budget debate short resolution hear  / established september along august veto june april brundage ; sparsity=0.0000\n",
      "Jan: january economic things judiciary sources congress decisions class  / september june estimated loss payments july april company ; sparsity=0.0000\n",
      "Jul: july labolt ways established measures secured moving hearing  / brundage october november april september class august amy ; sparsity=0.0000\n",
      "Jun: june initiative immigration along system find opportunities data  / september amy december presidents august april october january ; sparsity=0.0000\n",
      "Mar: march budget subject paid conditions trust labolt resolution  / june september august brundage site respect month supreme ; sparsity=0.0000\n",
      "May: immigration site domestic permanent asking workers committed takes  / september june october december brundage amy august july ; sparsity=0.0000\n",
      "Nov: november brundage alerts pursuant polls petitions initiated period  / labolt june ben july close noted approach january ; sparsity=0.0000\n",
      "Oct: october brundage amy human cases values age private  / labolt june often ben improving january leaders moving ; sparsity=0.0000\n",
      "Sep: september chief brundage view ahead terror recovery presidents  / labolt june january november initiated alerts december second ; sparsity=0.0000\n",
      "sparsity in covariates = 0.0000\n",
      "Dev perplexity = 438.8745\n",
      "Saving document representations\n"
     ]
    }
   ],
   "source": [
    "script = 'run_scholar.py'\n",
    "args = 'tutorial/congress/ -k 10 --epochs 150 --dev-folds 10 --seed 99 --topic-covars senator,year,month'\n",
    "print(\"python\", script, args)\n",
    "run_scholar.main(args.split())"
   ]
  },
  {
   "cell_type": "markdown",
   "metadata": {},
   "source": [
    "Now if we load the covariate vectors, we will also see some temporal patterns in word frequencies. The ones here don't seem all that compelling, but perhaps more data is needed."
   ]
  },
  {
   "cell_type": "code",
   "execution_count": 36,
   "metadata": {},
   "outputs": [
    {
     "name": "stdout",
     "output_type": "stream",
     "text": [
      "Coburn: room citizen coburn tom per released spending added ; sparsity=0.0000\n",
      "Graham: bishop graham relases kevin lindsey south hickman carolina ; sparsity=0.0000\n",
      "Klobuchar: klobuchar minnesota consumer secured guard serves farm transportation ; sparsity=0.0000\n",
      "McCain: mccain john record browse freedom remains air democracy ; sparsity=0.0000\n",
      "Obama: obama julian illinois barack brundage dick alerts gibbs ; sparsity=0.0000\n",
      "Sanders: sanders http bernie sen vermont read paying told ; sparsity=0.0000\n",
      "2005: gibbs julian vietor announces green tommy robert court ; sparsity=0.0000\n",
      "2006: vietor tommy gibbs robert julian alternative green authority ; sparsity=0.0000\n",
      "2007: labolt ben brundage amy http iraq course visit ; sparsity=0.0000\n",
      "2008: newsletters petitions polls initiated michael alerts ortiz pursuant ; sparsity=0.0000\n",
      "Apr: april location temporary drug prices price calls attention ; sparsity=0.0000\n",
      "Aug: august transportation insurance office children area receive letter ; sparsity=0.0000\n",
      "Dec: december polls petitions initiated electronic pursuant newsletters alerts ; sparsity=0.0000\n",
      "Feb: february cut eliminate budget debate short resolution hear ; sparsity=0.0000\n",
      "Jan: january economic things judiciary sources congress decisions class ; sparsity=0.0000\n",
      "Jul: july labolt ways established measures secured moving hearing ; sparsity=0.0000\n",
      "Jun: june initiative immigration along system find opportunities data ; sparsity=0.0000\n",
      "Mar: march budget subject paid conditions trust labolt resolution ; sparsity=0.0000\n",
      "May: immigration site domestic permanent asking workers committed takes ; sparsity=0.0000\n",
      "Nov: november brundage alerts pursuant polls petitions initiated period ; sparsity=0.0000\n",
      "Oct: october brundage amy human cases values age private ; sparsity=0.0000\n",
      "Sep: september chief brundage view ahead terror recovery presidents ; sparsity=0.0000\n"
     ]
    }
   ],
   "source": [
    "topic_covars = np.load(os.path.join('output', 'beta_c.npz'))\n",
    "weights = topic_covars['beta']\n",
    "names = topic_covars['names']\n",
    "print_top_words(weights, vocab, topic_names=names, n_pos=8, n_neg=0);"
   ]
  },
  {
   "cell_type": "markdown",
   "metadata": {},
   "source": [
    "## Interactions\n",
    "\n",
    "Alternatively, we can include interactions between covariates and topics.\n",
    "\n",
    "Here, let's try using a covariate for party membership, rather than for each Senator, and include interactions between topics and party. To do this, just include the `--interactions` options. We'll also use less topics, since we'll effectively be getting two versions of each (Democrat and Republican)."
   ]
  },
  {
   "cell_type": "code",
   "execution_count": 44,
   "metadata": {},
   "outputs": [
    {
     "name": "stdout",
     "output_type": "stream",
     "text": [
      "python run_scholar.py tutorial/congress/ -k 8 --epochs 150 --dev-folds 10 --seed 99 --topic-covars party --interactions\n",
      "Loading data\n",
      "Loaded 2483 documents with 1021 features\n",
      "Found 2483 non-empty documents\n",
      "Loading covariates from tutorial/congress/train.party.csv\n",
      "Computing background frequencies\n",
      "Min/max word counts in training data: 88 5075\n",
      "Network architecture:\n",
      "embedding_dim: 300\n",
      "n_topics: 8\n",
      "vocab_size: 1021\n",
      "label_type: None\n",
      "n_labels: 0\n",
      "n_prior_covars: 0\n",
      "n_topic_covars: 2\n",
      "l1_beta_reg: 0.0\n",
      "l1_beta_c_reg: 0.0\n",
      "l1_beta_ci_reg: 0.0\n",
      "l2_prior_reg: 0.0\n",
      "classifier_layers: 1\n",
      "use_interactions: True\n",
      "Optimizing full model\n",
      "Epoch: 10 cost= 1158.523839485\n",
      "Epoch: 10; Dev perplexity = 920.8193\n",
      "Epoch: 20 cost= 1113.416789010\n",
      "Epoch: 20; Dev perplexity = 803.6328\n",
      "Epoch: 30 cost= 1108.656210675\n",
      "Epoch: 30; Dev perplexity = 752.6608\n",
      "Epoch: 40 cost= 1076.031638877\n",
      "Epoch: 40; Dev perplexity = 684.2396\n",
      "Epoch: 50 cost= 1097.876675668\n",
      "Epoch: 50; Dev perplexity = 642.9678\n",
      "Epoch: 60 cost= 1079.306651549\n",
      "Epoch: 60; Dev perplexity = 618.0787\n",
      "Epoch: 70 cost= 1058.343727061\n",
      "Epoch: 70; Dev perplexity = 592.6020\n",
      "Epoch: 80 cost= 1075.167976396\n",
      "Epoch: 80; Dev perplexity = 572.7244\n",
      "Epoch: 90 cost= 1054.995876372\n",
      "Epoch: 90; Dev perplexity = 550.2364\n",
      "Epoch: 100 cost= 1071.333340980\n",
      "Epoch: 100; Dev perplexity = 532.7445\n",
      "Epoch: 110 cost= 1075.331687159\n",
      "Epoch: 110; Dev perplexity = 514.3380\n",
      "Epoch: 120 cost= 1090.401182580\n",
      "Epoch: 120; Dev perplexity = 497.7988\n",
      "Epoch: 130 cost= 1116.593091312\n",
      "Epoch: 130; Dev perplexity = 482.7604\n",
      "Epoch: 140 cost= 1095.303804880\n",
      "Epoch: 140; Dev perplexity = 472.0555\n",
      "Background frequencies of top words:\n",
      "senator obama bill said senate today washington graham press president\n",
      "[0.01296816 0.01271263 0.00941629 0.00862415 0.00805176 0.00681244\n",
      " 0.00638571 0.00630138 0.00597941 0.00590275]\n",
      "Topics:\n",
      "0: immigration illegal temporary pursuant polls border opinion alerts  / minnesota soldiers million projects klobuchar vermont funding program ; sparsity=0.0000\n",
      "1: dick durbin request individual disaster severe communications letter  / south hickman carolina sanders relases vermont energy graham ; sparsity=0.0000\n",
      "2: grants vehicles equipment fire tools energy departments supports  / statement opinion coburn ortiz alerts process people regarding ; sparsity=0.0000\n",
      "3: iraq troops war say strategy let different things  / barack initiated alerts release gibbs julian ortiz electronic ; sparsity=0.0000\n",
      "4: announces announced bishop development lindsey awarded minnesota hickman  / veterans barack percent obama even introduced americans require ; sparsity=0.0000\n",
      "5: room lead products transparency coburn consumer spending citizen  / south hickman carolina relases releases graham date alerts ; sparsity=0.0000\n",
      "6: statement court nomination justice attorney following julian passing  / million percent veterans increase klobuchar programs health energy ; sparsity=0.0000\n",
      "7: guard care health soldiers members returning duty mental  / alerts opinion sincerely immediately ortiz letter international vietor ; sparsity=0.0010\n",
      "sparsity in topics = 0.0001\n",
      "Covariate deviations:\n",
      "D: barack ortiz fuel illinois gibbs newsletters monday vietor  / browse relases hickman mccain carolina south citizen record ; sparsity=0.0000\n",
      "R: releases announce carolina south kevin graham judiciary fire  / amy barack labolt thursday tommy minnesota alerts julian ; sparsity=0.0000\n",
      "sparsity in covariates = 0.0000\n",
      "Covariate interactions\n",
      "(16, 1021)\n",
      "0:D: alerts petitions opinion polls newsletters electronic communications initiated  / hickman press minnesota funding relases state klobuchar south ; sparsity=0.0000\n",
      "0:R: immigration illegal border secure states laws reform trade  / barack ortiz opinion polls primary initiated alerts newsletters ; sparsity=0.0000\n",
      "1:D: durbin dick counties sincerely disaster illinois severe opinion  / browse bills prices nations mccain voted change energy ; sparsity=0.0000\n",
      "1:R: almost act bills largest report manner mccain around  / barack contact ortiz amy labolt south carolina gibbs ; sparsity=0.0000\n",
      "2:D: gas technologies energy environment oil economy standard efficient  / relases hickman carolina graham statement opinion ortiz awarded ; sparsity=0.0000\n",
      "2:R: grants awarded demint tools supports receive fire contributions  / estimated already klobuchar take supported raise alone per ; sparsity=0.0000\n",
      "3:D: sanders bernie warming vermont http read reality global  / releases contact browse graham hickman relases criminal immediately ; sparsity=0.0000\n",
      "3:R: terror political war strategy consequences win chance iraq  / bernie vermont million programs department labolt program health ; sparsity=0.0000\n",
      "4:D: minnesota klobuchar transportation environment secured works subcommittee line  / hickman relases press bishop lindsey graham wes date ; sparsity=0.0000\n",
      "4:R: announces contact releases browse date relases carolina announced  / barack minnesota klobuchar last without act just giving ; sparsity=0.0000\n",
      "5:D: lead products consumer children commission safety practices industry  / statement line assistance war alerts releases projects per ; sparsity=0.0000\n",
      "5:R: coburn room spending debt earmarks per associated citizen  / hickman contact klobuchar kevin south relases graham carolina ; sparsity=0.0000\n",
      "6:D: julian tommy statement gibbs obama immediate vietor contact  / browse hickman releases percent relases press wes per ; sparsity=0.0000\n",
      "6:R: mccain supreme browse john man court experience highest  / barack million electronic provide fiscal initiated alerts gibbs ; sparsity=0.0000\n",
      "7:D: returning veterans soldiers health income vermont guard care  / coburn relases hickman carolina browse releases press international ; sparsity=0.0000\n",
      "7:R: coburn per room guard care citizen true eligible  / minnesota klobuchar strengthen amy vermont returning come obama ; sparsity=0.0000\n",
      "sparsity in covariate interactions = 0.0000\n",
      "Dev perplexity = 464.6003\n",
      "Saving document representations\n"
     ]
    }
   ],
   "source": [
    "script = 'run_scholar.py'\n",
    "args = 'tutorial/congress/ -k 8 --epochs 150 --dev-folds 10 --seed 99 --topic-covars party --interactions'\n",
    "print(\"python\", script, args)\n",
    "run_scholar.main(args.split())"
   ]
  },
  {
   "cell_type": "markdown",
   "metadata": {},
   "source": [
    "First, let's look at the vectors learned for each party, then the topics, then the interactions."
   ]
  },
  {
   "cell_type": "code",
   "execution_count": 45,
   "metadata": {},
   "outputs": [
    {
     "name": "stdout",
     "output_type": "stream",
     "text": [
      "D: barack ortiz fuel illinois gibbs newsletters monday vietor ; sparsity=0.0000\n",
      "R: releases announce carolina south kevin graham judiciary fire ; sparsity=0.0000\n"
     ]
    }
   ],
   "source": [
    "topic_covars = np.load(os.path.join('output', 'beta_c.npz'))\n",
    "weights = topic_covars['beta']\n",
    "names = topic_covars['names']\n",
    "print_top_words(weights, vocab, topic_names=names, n_pos=8, n_neg=0);"
   ]
  },
  {
   "cell_type": "code",
   "execution_count": 46,
   "metadata": {},
   "outputs": [
    {
     "name": "stdout",
     "output_type": "stream",
     "text": [
      "0: immigration illegal temporary pursuant polls border opinion alerts ; sparsity=0.0000\n",
      "1: dick durbin request individual disaster severe communications letter ; sparsity=0.0000\n",
      "2: grants vehicles equipment fire tools energy departments supports ; sparsity=0.0000\n",
      "3: iraq troops war say strategy let different things ; sparsity=0.0000\n",
      "4: announces announced bishop development lindsey awarded minnesota hickman ; sparsity=0.0000\n",
      "5: room lead products transparency coburn consumer spending citizen ; sparsity=0.0000\n",
      "6: statement court nomination justice attorney following julian passing ; sparsity=0.0000\n",
      "7: guard care health soldiers members returning duty mental ; sparsity=0.0010\n"
     ]
    }
   ],
   "source": [
    "beta = np.load(os.path.join('output', 'beta.npz'))['beta']\n",
    "print_top_words(beta, vocab, n_pos=8, n_neg=0);"
   ]
  },
  {
   "cell_type": "code",
   "execution_count": 47,
   "metadata": {},
   "outputs": [
    {
     "name": "stdout",
     "output_type": "stream",
     "text": [
      "0:D: alerts petitions opinion polls newsletters electronic communications initiated ; sparsity=0.0000\n",
      "0:R: immigration illegal border secure states laws reform trade ; sparsity=0.0000\n",
      "1:D: durbin dick counties sincerely disaster illinois severe opinion ; sparsity=0.0000\n",
      "1:R: almost act bills largest report manner mccain around ; sparsity=0.0000\n",
      "2:D: gas technologies energy environment oil economy standard efficient ; sparsity=0.0000\n",
      "2:R: grants awarded demint tools supports receive fire contributions ; sparsity=0.0000\n",
      "3:D: sanders bernie warming vermont http read reality global ; sparsity=0.0000\n",
      "3:R: terror political war strategy consequences win chance iraq ; sparsity=0.0000\n",
      "4:D: minnesota klobuchar transportation environment secured works subcommittee line ; sparsity=0.0000\n",
      "4:R: announces contact releases browse date relases carolina announced ; sparsity=0.0000\n",
      "5:D: lead products consumer children commission safety practices industry ; sparsity=0.0000\n",
      "5:R: coburn room spending debt earmarks per associated citizen ; sparsity=0.0000\n",
      "6:D: julian tommy statement gibbs obama immediate vietor contact ; sparsity=0.0000\n",
      "6:R: mccain supreme browse john man court experience highest ; sparsity=0.0000\n",
      "7:D: returning veterans soldiers health income vermont guard care ; sparsity=0.0000\n",
      "7:R: coburn per room guard care citizen true eligible ; sparsity=0.0000\n"
     ]
    }
   ],
   "source": [
    "interactions = np.load(os.path.join('output', 'beta_ci.npz'))\n",
    "weights = interactions['beta']\n",
    "names = topic_covars['names']\n",
    "names = [str(k) + ':' + c for k in range(10) for c in names]\n",
    "print_top_words(weights, vocab, topic_names=names, n_pos=8, n_neg=0);"
   ]
  },
  {
   "cell_type": "markdown",
   "metadata": {},
   "source": [
    "The basic topics here are now perhaps less good, but the interaction do seem to capture something about how the different parties talk about certain issues. For example, for topic 0 (immigration), The Democrat version emphasizes public opinion, whereas the republican version is more about border security. More data (from all the senators) would give us a much better approxaimation of this."
   ]
  },
  {
   "cell_type": "markdown",
   "metadata": {},
   "source": [
    "## Adding labels"
   ]
  },
  {
   "cell_type": "markdown",
   "metadata": {},
   "source": [
    "In addition to covariates, we can also introduce labels, which are predicted from the topics that are learned. Although they only introduce a subtle influence on the topic, we are effectively learning a classifier and a topic model simultaneously.\n",
    "\n",
    "Here, let's try predicting the party of a press release from the topics. We'll also try using slightly more topics this time."
   ]
  },
  {
   "cell_type": "code",
   "execution_count": 52,
   "metadata": {},
   "outputs": [
    {
     "name": "stdout",
     "output_type": "stream",
     "text": [
      "python run_scholar.py tutorial/congress/ -k 12 --epochs 150 --dev-folds 10 --seed 99 --topic-covars senator,month --label party\n",
      "Loading data\n",
      "Loaded 2483 documents with 1021 features\n",
      "Found 2483 non-empty documents\n",
      "Loading labels from tutorial/congress/train.party.csv\n",
      "Found 2 labels\n",
      "Loading covariates from tutorial/congress/train.senator.csv\n",
      "Loading covariates from tutorial/congress/train.month.csv\n",
      "Train label proportions: [0.54007249 0.45992751]\n",
      "Computing background frequencies\n",
      "Min/max word counts in training data: 88 5075\n",
      "Network architecture:\n",
      "embedding_dim: 300\n",
      "n_topics: 12\n",
      "vocab_size: 1021\n",
      "label_type: None\n",
      "n_labels: 2\n",
      "n_prior_covars: 0\n",
      "n_topic_covars: 18\n",
      "l1_beta_reg: 0.0\n",
      "l1_beta_c_reg: 0.0\n",
      "l1_beta_ci_reg: 0.0\n",
      "l2_prior_reg: 0.0\n",
      "classifier_layers: 1\n",
      "use_interactions: False\n",
      "Optimizing full model\n",
      "Epoch: 10 ; cost = 1136.633699490 ; training accuracy (noisy) = 0.702013423\n",
      "Epoch: 10; Dev perplexity = 909.2849; Dev accuracy = 0.7177\n",
      "Epoch: 20 ; cost = 1095.048931898 ; training accuracy (noisy) = 0.574496644\n",
      "Epoch: 20; Dev perplexity = 858.1822; Dev accuracy = 0.6895\n",
      "Epoch: 30 ; cost = 1090.597363500 ; training accuracy (noisy) = 0.615212528\n",
      "Epoch: 30; Dev perplexity = 773.6793; Dev accuracy = 0.6935\n",
      "Epoch: 40 ; cost = 1058.631818460 ; training accuracy (noisy) = 0.627740492\n",
      "Epoch: 40; Dev perplexity = 708.0969; Dev accuracy = 0.6694\n",
      "Epoch: 50 ; cost = 1079.181888589 ; training accuracy (noisy) = 0.632214765\n",
      "Epoch: 50; Dev perplexity = 669.1317; Dev accuracy = 0.6774\n",
      "Epoch: 60 ; cost = 1064.260548841 ; training accuracy (noisy) = 0.633109620\n",
      "Epoch: 60; Dev perplexity = 641.4088; Dev accuracy = 0.6855\n",
      "Epoch: 70 ; cost = 1045.057637942 ; training accuracy (noisy) = 0.646085011\n",
      "Epoch: 70; Dev perplexity = 602.9703; Dev accuracy = 0.6976\n",
      "Epoch: 80 ; cost = 1062.571112102 ; training accuracy (noisy) = 0.637583893\n",
      "Epoch: 80; Dev perplexity = 581.0854; Dev accuracy = 0.7177\n",
      "Epoch: 90 ; cost = 1043.376557694 ; training accuracy (noisy) = 0.672483221\n",
      "Epoch: 90; Dev perplexity = 555.0756; Dev accuracy = 0.7056\n",
      "Epoch: 100 ; cost = 1061.386614977 ; training accuracy (noisy) = 0.661297539\n",
      "Epoch: 100; Dev perplexity = 536.6641; Dev accuracy = 0.7702\n",
      "Epoch: 110 ; cost = 1067.902897572 ; training accuracy (noisy) = 0.696644295\n",
      "Epoch: 110; Dev perplexity = 523.7696; Dev accuracy = 0.8024\n",
      "Epoch: 120 ; cost = 1082.092181383 ; training accuracy (noisy) = 0.693959732\n",
      "Epoch: 120; Dev perplexity = 502.5767; Dev accuracy = 0.8185\n",
      "Epoch: 130 ; cost = 1105.137046456 ; training accuracy (noisy) = 0.701565996\n",
      "Epoch: 130; Dev perplexity = 483.9952; Dev accuracy = 0.8266\n",
      "Epoch: 140 ; cost = 1082.585864312 ; training accuracy (noisy) = 0.699776286\n",
      "Epoch: 140; Dev perplexity = 468.6756; Dev accuracy = 0.8185\n",
      "Background frequencies of top words:\n",
      "senator obama bill said senate today washington graham press president\n",
      "[0.01296816 0.01271263 0.00941629 0.00862415 0.00805176 0.00681244\n",
      " 0.00638571 0.00630138 0.00597941 0.00590275]\n",
      "Topics:\n",
      "0: troops iraq course strategy iraqi war forces tell  / department demint announced awarded funds program letter grants ; sparsity=0.0000\n",
      "1: members veterans care returning military service soldiers defense  / industry statement justice interest clean energy record companies ; sparsity=0.0000\n",
      "2: immigration border investigation information illegal accountability workers reports  / statement change clean east great demint troops environment ; sparsity=0.0000\n",
      "3: nomination statement position following supreme judge court wes  / million providing health grants equipment fiscal care cost ; sparsity=0.0000\n",
      "4: court supreme judge justice judiciary election rules democratic  / health million funding care programs billion demint fiscal ; sparsity=0.0000\n",
      "5: students environment project river climate development education funding  / statement immediately date call iraq letter troops general ; sparsity=0.0000\n",
      "6: counties products disaster safety homes lead dick assistance  / americans statement military war veterans change policies joint ; sparsity=0.0000\n",
      "7: energy gas renewable oil fuels fuel sources consumers  / care statement war polls region primary troops military ; sparsity=0.0000\n",
      "8: awarded announces grant grants announce announced receive demint  / senate united president believe time now nation issue ; sparsity=0.0000\n",
      "9: statement released following newsletters petitions initiated pursuant opinion  / amount number provide year percent cost available average ; sparsity=0.0000\n",
      "10: priorities spending earmarks billion fiscal veto bills budget  / united general justice criminal michael court communications role ; sparsity=0.0000\n",
      "11: statement released following newsletters ortiz pursuant initiated petitions  / average billion fiscal provide percent year bill providing ; sparsity=0.0000\n",
      "sparsity in topics = 0.0000\n",
      "Covariate deviations:\n",
      "Coburn: coburn tom citizen per room released financial congress  / bernie minnesota date graham vietor obama petitions browse ; sparsity=0.0000\n",
      "Graham: hickman lindsey kevin south releases relases graham demint  / vietor thursday klobuchar pursuant immediately obama gibbs bernie ; sparsity=0.0000\n",
      "Klobuchar: klobuchar minnesota amy serves transportation secured consumer cities  / obama barack press browse labolt graham vietor lindsey ; sparsity=0.0000\n",
      "McCain: mccain browse john record defense simply freedom air  / kevin hickman vietor obama graham carolina thursday barack ; sparsity=0.0010\n",
      "Obama: immediate labolt obama gibbs ben tommy brundage barack  / hickman minnesota graham kevin klobuchar carolina bernie bishop ; sparsity=0.0000\n",
      "Sanders: bernie sen read vermont http paying sanders visit  / minnesota obama date klobuchar kevin carolina hickman barack ; sparsity=0.0000\n",
      "Apr: april location temporary prices price building ortiz drug  / july august june vietor tommy brundage september complete ; sparsity=0.0000\n",
      "Aug: august transportation receive children announce criminal grant insurance  / polls initiated finally newsletters supports expected sense union ; sparsity=0.0000\n",
      "Dec: december farm petitions pursuant homes electronic provision alerts  / ben advance june august company labolt clearly announces ; sparsity=0.0000\n",
      "Feb: february cut eliminate introduce bipartisan affected budget provided  / june august april labolt along ways veto done ; sparsity=0.0000\n",
      "Jan: january sources economic class decisions middle union push  / estimated october april july september june voted immigration ; sparsity=0.0000\n",
      "Jul: july ways debt measures moving secured sure improving  / october april november class february brundage executive amy ; sparsity=0.0000\n",
      "Jun: june immigration along businesses initiative system laws almost  / amy october august authorized september march december july ; sparsity=0.0000\n",
      "Mar: march budget labolt subject resolution paid play rates  / brundage july october june august supreme amy run ; sparsity=0.0000\n",
      "May: immigration site domestic permanent asking committed takes joint  / july october august concerned september terrorists amy june ; sparsity=0.0000\n",
      "Nov: november brundage amy petitions win encourage authorized veto  / noted ortiz july june labolt approach close measure ; sparsity=0.0000\n",
      "Oct: october brundage amy human reported north values democratic  / labolt ortiz often polls initiated newsletters june alerts ; sparsity=0.0000\n",
      "Sep: september ahead brundage view recovery chief infrastructure terror  / alerts initiated ortiz polls newsletters petitions electronic labolt ; sparsity=0.0010\n",
      "sparsity in covariates = 0.0001\n",
      "Dev perplexity = 459.1609\n",
      "Predicting labels\n",
      "train accuracy on labels = 0.8067\n",
      "dev accuracy on labels = 0.8226\n",
      "Label probabilities based on topics\n",
      "Labels: D R\n",
      "0: 0.4957 0.5043 \n",
      "1: 0.8430 0.1570 \n",
      "2: 0.7062 0.2938 \n",
      "3: 0.0118 0.9882 \n",
      "4: 0.4418 0.5582 \n",
      "5: 0.8312 0.1688 \n",
      "6: 0.9481 0.0519 \n",
      "7: 0.8732 0.1268 \n",
      "8: 0.0095 0.9905 \n",
      "9: 0.9101 0.0899 \n",
      "10: 0.3079 0.6921 \n",
      "11: 0.5719 0.4281 \n",
      "Saving document representations\n"
     ]
    }
   ],
   "source": [
    "script = 'run_scholar.py'\n",
    "args = 'tutorial/congress/ -k 12 --epochs 150 --dev-folds 10 --seed 99 --topic-covars senator,month --label party'\n",
    "print(\"python\", script, args)\n",
    "run_scholar.main(args.split())"
   ]
  },
  {
   "cell_type": "markdown",
   "metadata": {},
   "source": [
    "First let's look at the topics as usual"
   ]
  },
  {
   "cell_type": "code",
   "execution_count": 53,
   "metadata": {},
   "outputs": [
    {
     "name": "stdout",
     "output_type": "stream",
     "text": [
      "0: troops iraq course strategy iraqi war forces tell ; sparsity=0.0000\n",
      "1: members veterans care returning military service soldiers defense ; sparsity=0.0000\n",
      "2: immigration border investigation information illegal accountability workers reports ; sparsity=0.0000\n",
      "3: nomination statement position following supreme judge court wes ; sparsity=0.0000\n",
      "4: court supreme judge justice judiciary election rules democratic ; sparsity=0.0000\n",
      "5: students environment project river climate development education funding ; sparsity=0.0000\n",
      "6: counties products disaster safety homes lead dick assistance ; sparsity=0.0000\n",
      "7: energy gas renewable oil fuels fuel sources consumers ; sparsity=0.0000\n",
      "8: awarded announces grant grants announce announced receive demint ; sparsity=0.0000\n",
      "9: statement released following newsletters petitions initiated pursuant opinion ; sparsity=0.0000\n",
      "10: priorities spending earmarks billion fiscal veto bills budget ; sparsity=0.0000\n",
      "11: statement released following newsletters ortiz pursuant initiated petitions ; sparsity=0.0000\n"
     ]
    }
   ],
   "source": [
    "beta = np.load(os.path.join('output', 'beta.npz'))['beta']\n",
    "print_top_words(beta, vocab, n_pos=8, n_neg=0);"
   ]
  },
  {
   "cell_type": "markdown",
   "metadata": {},
   "source": [
    "Now let's look at which topics predict Democrat vs Republican."
   ]
  },
  {
   "cell_type": "code",
   "execution_count": 54,
   "metadata": {},
   "outputs": [
    {
     "name": "stdout",
     "output_type": "stream",
     "text": [
      "Labels: D R\n",
      "0: 0.4957 0.5043 \n",
      "1: 0.8430 0.1570 \n",
      "2: 0.7062 0.2938 \n",
      "3: 0.0118 0.9882 \n",
      "4: 0.4418 0.5582 \n",
      "5: 0.8312 0.1688 \n",
      "6: 0.9481 0.0519 \n",
      "7: 0.8732 0.1268 \n",
      "8: 0.0095 0.9905 \n",
      "9: 0.9101 0.0899 \n",
      "10: 0.3079 0.6921 \n",
      "11: 0.5719 0.4281 \n"
     ]
    }
   ],
   "source": [
    "npz = np.load('output/topics_to_labels.npz')\n",
    "probs = npz['probs']\n",
    "label_names = npz['label']\n",
    "n_topics, n_labels = probs.shape\n",
    "print(\"Labels:\", ' '.join([name for name in label_names]))\n",
    "for k in range(n_topics):\n",
    "    output = str(k) + ': '\n",
    "    for i in range(n_labels):\n",
    "        output += '%.4f ' % probs[k, i]\n",
    "    print(output)\n"
   ]
  },
  {
   "cell_type": "markdown",
   "metadata": {},
   "source": [
    "These numbers show the probability (according to the model) that a document entirely about a single topic is from a Democrat vs a Republican. Of course, in practice, most documents will be represented as a mixture of topics, and both parties talk about all topics to some degree.\n",
    "\n",
    "More expertise would be useful in trying to interpret whether the model is doing something reasonable here, but at least some parts seem to line up (e.g. Democrats talking more about veterans (topic 1) and Republicans talking more about spending (topic 11). As above, using data from more Senators would be very useful here."
   ]
  },
  {
   "cell_type": "markdown",
   "metadata": {},
   "source": [
    "Ultimately, exploration of different models is requried to figure out what is best for your application. Also, remember than trying a different random seed will give you different results."
   ]
  },
  {
   "cell_type": "code",
   "execution_count": null,
   "metadata": {},
   "outputs": [],
   "source": []
  }
 ],
 "metadata": {
  "kernelspec": {
   "display_name": "Python 3",
   "language": "python",
   "name": "python3"
  },
  "language_info": {
   "codemirror_mode": {
    "name": "ipython",
    "version": 3
   },
   "file_extension": ".py",
   "mimetype": "text/x-python",
   "name": "python",
   "nbconvert_exporter": "python",
   "pygments_lexer": "ipython3",
   "version": "3.6.7"
  }
 },
 "nbformat": 4,
 "nbformat_minor": 2
}
